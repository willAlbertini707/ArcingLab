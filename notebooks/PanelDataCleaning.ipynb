{
 "cells": [
  {
   "cell_type": "markdown",
   "id": "de85217d",
   "metadata": {},
   "source": [
    "# AERO 356-03 Lab 2 Data Processing\n",
    "\n",
    "This notebook was created to preprocess lab data for data extractor consumption. All files will need to have column names:\n",
    "\n",
    "Solar panel data will be formatted:\n",
    "\n",
    "- current_pre: current before arcing (Amps)\n",
    "- voltage_pre: voltage before arcing (Volts)\n",
    "- current_post: current after arcing (Amps)\n",
    "- voltage_post: voltage after arcing (Volts)\n",
    "\n",
    "Arcing data will be formatted:\n",
    "\n",
    "- pressure: pressure of vacuum chamber\n",
    "- voltage: recorded voltage when arcing occured (kV)\n",
    "- current: recorded current when arcing occured (mA)"
   ]
  },
  {
   "cell_type": "code",
   "execution_count": 1,
   "id": "9deda556",
   "metadata": {},
   "outputs": [
    {
     "data": {
      "text/plain": [
       "['.DS_Store', 'CBCFO.csv', 'arcing_group4.csv']"
      ]
     },
     "execution_count": 1,
     "metadata": {},
     "output_type": "execute_result"
    }
   ],
   "source": [
    "# external imports\n",
    "import pandas as pd\n",
    "import os\n",
    "\n",
    "# create file path\n",
    "base_dir = '../data/'\n",
    "dirty_dir = os.path.join(base_dir, 'original')\n",
    "\n",
    "# show data in dirty data directory\n",
    "file_names = os.listdir(dirty_dir)\n",
    "file_names"
   ]
  },
  {
   "cell_type": "markdown",
   "id": "89410c29",
   "metadata": {},
   "source": [
    "### Create new directory for clean data"
   ]
  },
  {
   "cell_type": "code",
   "execution_count": 2,
   "id": "855e1b09",
   "metadata": {},
   "outputs": [],
   "source": [
    "# create directory for panel data and arcing data\n",
    "panelData = os.path.join(base_dir, 'panelData')\n",
    "# os.mkdir(panelData)\n",
    "\n",
    "arcingData = os.path.join(base_dir, 'arcingData')\n",
    "# os.mkdir(arcingData)"
   ]
  },
  {
   "cell_type": "markdown",
   "id": "712aefde",
   "metadata": {},
   "source": [
    "## Process data from group 4\n",
    "\n",
    "CBCFO: Cathode Biased - cell facing out\n",
    "\n",
    "SS2D: Stainless Steel 2 D"
   ]
  },
  {
   "cell_type": "code",
   "execution_count": 3,
   "id": "cc211f00",
   "metadata": {},
   "outputs": [
    {
     "name": "stdout",
     "output_type": "stream",
     "text": [
      "   Voltage [V]  Current [A]  Unnamed: 2  Voltage [V].1  Current [A].1\n",
      "0        0.520         0.01         NaN          0.525           0.01\n",
      "1        0.518         0.06         NaN          0.518           0.06\n",
      "2        0.502         0.11         NaN          0.510           0.11\n",
      "3        0.487         0.16         NaN          0.496           0.16\n",
      "4        0.477         0.21         NaN          0.488           0.21\n",
      "------------------------------------------------------------\n",
      "   Pressure Goal [Torr]  Recorded Pressure [Torr]  Voltage of Arc [kV]  \\\n",
      "0                  3.00                      2.80                0.880   \n",
      "1                  2.00                      2.00                0.839   \n",
      "2                  1.20                      1.20                0.788   \n",
      "3                  0.60                      0.61                0.663   \n",
      "4                  0.14                      0.14                0.960   \n",
      "\n",
      "   Current [mA]  \n",
      "0           120  \n",
      "1             5  \n",
      "2             1  \n",
      "3             1  \n",
      "4             1  \n"
     ]
    }
   ],
   "source": [
    "# create file paths\n",
    "group4_panel_csv = os.path.join(dirty_dir, file_names[1])\n",
    "group4_arcing_csv = os.path.join(dirty_dir, file_names[2])\n",
    "\n",
    "# load in data\n",
    "group4_panel = pd.read_csv(group4_panel_csv)\n",
    "group4_arcing = pd.read_csv(group4_arcing_csv)\n",
    "\n",
    "print(group4_panel.head())\n",
    "print('-' * 60)\n",
    "print(group4_arcing.head())"
   ]
  },
  {
   "cell_type": "code",
   "execution_count": 4,
   "id": "f4ec4e5c",
   "metadata": {},
   "outputs": [],
   "source": [
    "# clean panel data and export\n",
    "group4_panel.dropna(axis=1, inplace=True)\n",
    "group4_panel.columns = ['voltage_pre', 'current_pre', 'voltage_post', 'current_post']\n",
    "\n",
    "#create path for saving\n",
    "CBCFO = os.path.join(panelData, \"CBCFO.csv\")\n",
    "group4_panel.to_csv(CBCFO, index=False)"
   ]
  },
  {
   "cell_type": "code",
   "execution_count": 5,
   "id": "32046233",
   "metadata": {},
   "outputs": [],
   "source": [
    "# clean arcing data and export\n",
    "group4_arcing.drop(group4_arcing.columns[0], axis=1, inplace = True)\n",
    "group4_arcing.columns = ['pressure', 'voltage', 'current']\n",
    "\n",
    "# create path for saving\n",
    "SS2D = os.path.join(arcingData, 'SS2D.csv')\n",
    "group4_arcing.to_csv(SS2D, index = False)"
   ]
  }
 ],
 "metadata": {
  "kernelspec": {
   "display_name": "Python 3 (ipykernel)",
   "language": "python",
   "name": "python3"
  },
  "language_info": {
   "codemirror_mode": {
    "name": "ipython",
    "version": 3
   },
   "file_extension": ".py",
   "mimetype": "text/x-python",
   "name": "python",
   "nbconvert_exporter": "python",
   "pygments_lexer": "ipython3",
   "version": "3.9.7"
  }
 },
 "nbformat": 4,
 "nbformat_minor": 5
}
