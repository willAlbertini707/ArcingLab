{
 "cells": [
  {
   "cell_type": "markdown",
   "id": "af8265a1",
   "metadata": {},
   "source": [
    "# AERO 356-03 Lab 2 Data Processing\n",
    "\n",
    "This notebook was created to preprocess lab data for data extractor consumption. All files will need to have column names:\n",
    "\n",
    "Solar panel data will be formatted:\n",
    "\n",
    "- current_pre: current before arcing (Amps)\n",
    "- voltage_pre: voltage before arcing (Volts)\n",
    "- current_post: current after arcing (Amps)\n",
    "- voltage_post: voltage after arcing (Volts)\n",
    "\n",
    "Arcing data will be formatted:\n",
    "\n",
    "- pressure: pressure of vacuum chamber (Torr)\n",
    "- voltage: recorded voltage when arcing occured (kV)\n",
    "- current: recorded current when arcing occured (mA)"
   ]
  },
  {
   "cell_type": "code",
   "execution_count": 1,
   "id": "cd4cb79e",
   "metadata": {},
   "outputs": [
    {
     "data": {
      "text/plain": [
       "['Al.csv',\n",
       " 'C.csv',\n",
       " 'ABCFO_pre.csv',\n",
       " 'CBCFO.csv',\n",
       " 'ABCFI_pre.csv',\n",
       " 'SS.csv',\n",
       " 'CBCFI_BeforeTest.txt',\n",
       " 'CBCFI_AfterTest.txt',\n",
       " 'ABCFO_post.csv',\n",
       " 'arcing_group4.csv',\n",
       " 'ABCFI_post.csv']"
      ]
     },
     "execution_count": 1,
     "metadata": {},
     "output_type": "execute_result"
    }
   ],
   "source": [
    "# external imports\n",
    "import pandas as pd\n",
    "import os\n",
    "\n",
    "# create file path\n",
    "base_dir = '../data/'\n",
    "dirty_dir = os.path.join(base_dir, 'original')\n",
    "\n",
    "# show data in dirty data directory\n",
    "file_names = os.listdir(dirty_dir)\n",
    "file_names"
   ]
  },
  {
   "cell_type": "markdown",
   "id": "9c360985",
   "metadata": {},
   "source": [
    "### Create new directory for clean data"
   ]
  },
  {
   "cell_type": "code",
   "execution_count": 2,
   "id": "428b3917",
   "metadata": {},
   "outputs": [],
   "source": [
    "# create directory for panel data and arcing data\n",
    "panelData = os.path.join(base_dir, 'panelData')\n",
    "# os.mkdir(panelData)\n",
    "\n",
    "arcingData = os.path.join(base_dir, 'arcingData')\n",
    "# os.mkdir(arcingData)"
   ]
  },
  {
   "cell_type": "markdown",
   "id": "06933b80",
   "metadata": {},
   "source": [
    "## Process data from group 4\n",
    "\n",
    "CBCFO: Cathode Biased - cell facing out\n",
    "\n",
    "SS2D: Stainless Steel 2 D"
   ]
  },
  {
   "cell_type": "code",
   "execution_count": 3,
   "id": "3e05f6ad",
   "metadata": {},
   "outputs": [
    {
     "name": "stdout",
     "output_type": "stream",
     "text": [
      "   Voltage [V]  Current [A]  Unnamed: 2  Voltage [V].1  Current [A].1\n",
      "0        0.520         0.01         NaN          0.525           0.01\n",
      "1        0.518         0.06         NaN          0.518           0.06\n",
      "2        0.502         0.11         NaN          0.510           0.11\n",
      "3        0.487         0.16         NaN          0.496           0.16\n",
      "4        0.477         0.21         NaN          0.488           0.21\n",
      "------------------------------------------------------------\n",
      "   Pressure Goal [Torr]  Recorded Pressure [Torr]  Voltage of Arc [kV]  \\\n",
      "0                  3.00                      2.80                0.880   \n",
      "1                  2.00                      2.00                0.839   \n",
      "2                  1.20                      1.20                0.788   \n",
      "3                  0.60                      0.61                0.663   \n",
      "4                  0.14                      0.14                0.960   \n",
      "\n",
      "   Current [mA]  \n",
      "0           120  \n",
      "1             5  \n",
      "2             1  \n",
      "3             1  \n",
      "4             1  \n"
     ]
    }
   ],
   "source": [
    "# create file paths\n",
    "group4_panel_csv = os.path.join(dirty_dir, 'CBCFO.csv')\n",
    "group4_arcing_csv = os.path.join(dirty_dir, 'arcing_group4.csv')\n",
    "\n",
    "# load in data\n",
    "group4_panel = pd.read_csv(group4_panel_csv)\n",
    "group4_arcing = pd.read_csv(group4_arcing_csv)\n",
    "\n",
    "print(group4_panel.head())\n",
    "print('-' * 60)\n",
    "print(group4_arcing.head())"
   ]
  },
  {
   "cell_type": "code",
   "execution_count": 4,
   "id": "4f690822",
   "metadata": {},
   "outputs": [],
   "source": [
    "# clean panel data and export\n",
    "group4_panel.dropna(axis=1, inplace=True)\n",
    "\n",
    "# split data\n",
    "group4_pre = group4_panel.iloc[:,[0,1]].copy()\n",
    "group4_post = group4_panel.iloc[:,[2,3]].copy()\n",
    "\n",
    "# rename columns\n",
    "group4_pre.columns = ['voltage', 'current']\n",
    "group4_post.columns = ['voltage', 'current']\n",
    "\n",
    "#create path for saving\n",
    "CBCFO_pre = os.path.join(panelData, \"CBCFO_pre.csv\")\n",
    "CBCFO_post = os.path.join(panelData, \"CBCFO_post.csv\")\n",
    "\n",
    "group4_pre.to_csv(CBCFO_pre, index=False)\n",
    "group4_post.to_csv(CBCFO_post, index=False)"
   ]
  },
  {
   "cell_type": "code",
   "execution_count": 5,
   "id": "bd7d5829",
   "metadata": {},
   "outputs": [],
   "source": [
    "# clean arcing data and export\n",
    "group4_arcing.drop(group4_arcing.columns[0], axis=1, inplace = True)\n",
    "group4_arcing.columns = ['pressure', 'voltage', 'current']\n",
    "\n",
    "# create path for saving\n",
    "SS2D = os.path.join(arcingData, 'SS2D.csv')\n",
    "group4_arcing.to_csv(SS2D, index = False)"
   ]
  },
  {
   "cell_type": "markdown",
   "id": "9369a121",
   "metadata": {},
   "source": [
    "## Process data from group 2"
   ]
  },
  {
   "cell_type": "code",
   "execution_count": 6,
   "id": "48133f00",
   "metadata": {
    "scrolled": true
   },
   "outputs": [
    {
     "name": "stdout",
     "output_type": "stream",
     "text": [
      "   Current (A)  Voltage (V)  Power (W)\n",
      "0         0.01        0.526    0.00526\n",
      "1         0.02        0.523    0.01046\n",
      "2         0.03        0.517    0.01551\n",
      "3         0.04        0.518    0.02072\n",
      "4         0.06        0.516    0.03096\n",
      "------------------------------------------------------------\n",
      "   Current (A)  Voltage (V)  Power (W)\n",
      "0         0.01        0.527    0.00527\n",
      "1         0.02        0.526    0.01052\n",
      "2         0.03        0.526    0.01578\n",
      "3         0.04        0.526    0.02104\n",
      "4         0.06        0.528    0.03168\n",
      "------------------------------------------------------------\n",
      "   Torr-Inch  Voltage (kV)  Initial Torr  Actual Torr  Current (mA)\n",
      "0       3.00         0.986          5.90         6.00           0.0\n",
      "1       2.00         0.760          4.00         4.00         120.0\n",
      "2       1.20         0.660          2.37         2.40          42.0\n",
      "3       0.60         0.584          1.19         1.20          34.0\n",
      "4       0.14         0.623          0.28         0.31          12.2\n"
     ]
    }
   ],
   "source": [
    "# create file paths\n",
    "ABFO_pre = os.path.join(dirty_dir, 'ABCFO_pre.csv')\n",
    "ABFO_post = os.path.join(dirty_dir, 'ABCFO_post.csv')\n",
    "C_arcing = os.path.join(dirty_dir, 'C.csv')\n",
    "\n",
    "# load in data\n",
    "ABFO_pre = pd.read_csv(ABFO_pre)\n",
    "ABFO_post = pd.read_csv(ABFO_post)\n",
    "C_arcing = pd.read_csv(C_arcing)\n",
    "\n",
    "print(ABFO_pre.head())\n",
    "print('-'*60)\n",
    "print(ABFO_post.head())\n",
    "print('-'*60)\n",
    "print(C_arcing.head())"
   ]
  },
  {
   "cell_type": "code",
   "execution_count": 7,
   "id": "36ccd027",
   "metadata": {},
   "outputs": [
    {
     "data": {
      "text/html": [
       "<div>\n",
       "<style scoped>\n",
       "    .dataframe tbody tr th:only-of-type {\n",
       "        vertical-align: middle;\n",
       "    }\n",
       "\n",
       "    .dataframe tbody tr th {\n",
       "        vertical-align: top;\n",
       "    }\n",
       "\n",
       "    .dataframe thead th {\n",
       "        text-align: right;\n",
       "    }\n",
       "</style>\n",
       "<table border=\"1\" class=\"dataframe\">\n",
       "  <thead>\n",
       "    <tr style=\"text-align: right;\">\n",
       "      <th></th>\n",
       "      <th>volage</th>\n",
       "      <th>pressure</th>\n",
       "      <th>current</th>\n",
       "    </tr>\n",
       "  </thead>\n",
       "  <tbody>\n",
       "    <tr>\n",
       "      <th>0</th>\n",
       "      <td>0.986</td>\n",
       "      <td>5.90</td>\n",
       "      <td>0.0</td>\n",
       "    </tr>\n",
       "    <tr>\n",
       "      <th>1</th>\n",
       "      <td>0.760</td>\n",
       "      <td>4.00</td>\n",
       "      <td>120.0</td>\n",
       "    </tr>\n",
       "    <tr>\n",
       "      <th>2</th>\n",
       "      <td>0.660</td>\n",
       "      <td>2.37</td>\n",
       "      <td>42.0</td>\n",
       "    </tr>\n",
       "    <tr>\n",
       "      <th>3</th>\n",
       "      <td>0.584</td>\n",
       "      <td>1.19</td>\n",
       "      <td>34.0</td>\n",
       "    </tr>\n",
       "    <tr>\n",
       "      <th>4</th>\n",
       "      <td>0.623</td>\n",
       "      <td>0.28</td>\n",
       "      <td>12.2</td>\n",
       "    </tr>\n",
       "  </tbody>\n",
       "</table>\n",
       "</div>"
      ],
      "text/plain": [
       "   volage  pressure  current\n",
       "0   0.986      5.90      0.0\n",
       "1   0.760      4.00    120.0\n",
       "2   0.660      2.37     42.0\n",
       "3   0.584      1.19     34.0\n",
       "4   0.623      0.28     12.2"
      ]
     },
     "execution_count": 7,
     "metadata": {},
     "output_type": "execute_result"
    }
   ],
   "source": [
    "# clean data and assign appropriate columns\n",
    "\n",
    "# pull relevant columns\n",
    "ABFO_pre = ABFO_pre.iloc[:, [0,1]]\n",
    "ABFO_post = ABFO_post.iloc[:, [0,1]]\n",
    "\n",
    "# assign new names\n",
    "col_names = ['current', 'voltage']\n",
    "ABFO_pre.columns = col_names\n",
    "ABFO_post.columns = col_names\n",
    "\n",
    "# pull relevant columns\n",
    "C_arcing_cut = C_arcing.iloc[:,[1,2,4]]\n",
    "\n",
    "# assign new names\n",
    "C_arcing_cut.columns = ['volage', 'pressure', 'current']\n",
    "C_arcing_cut.head()"
   ]
  },
  {
   "cell_type": "code",
   "execution_count": 8,
   "id": "4cbf7795",
   "metadata": {},
   "outputs": [],
   "source": [
    "# create file paths\n",
    "ABFO_pre_path = os.path.join(panelData, 'ABCFO_pre.csv')\n",
    "ABFO_post_path = os.path.join(panelData, 'ABCFO_post.csv')\n",
    "C_arcing_path = os.path.join(arcingData, 'C.csv')\n",
    "\n",
    "# export data\n",
    "ABFO_pre.to_csv(ABFO_pre_path, index=False)\n",
    "ABFO_post.to_csv(ABFO_post_path, index=False)\n",
    "C_arcing_cut.to_csv(C_arcing_path, index=False)"
   ]
  },
  {
   "cell_type": "markdown",
   "id": "f3f176d9",
   "metadata": {},
   "source": [
    "## Process data from group 3"
   ]
  },
  {
   "cell_type": "code",
   "execution_count": 9,
   "id": "65530d1b",
   "metadata": {
    "scrolled": true
   },
   "outputs": [
    {
     "name": "stdout",
     "output_type": "stream",
     "text": [
      "   Commanded Current  Cell Voltage (V)\n",
      "0               0.00             0.520\n",
      "1               0.02             0.528\n",
      "2               0.03             0.532\n",
      "3               0.05             0.515\n",
      "4               0.10             0.505\n",
      "------------------------------------------------------------\n",
      "   Commanded Current  Cell Voltage (V)  Unnamed: 2  Unnamed: 3\n",
      "0               0.00             0.518         NaN         NaN\n",
      "1               0.02             0.522         NaN         NaN\n",
      "2               0.03             0.519         NaN         NaN\n",
      "3               0.05             0.518         NaN         NaN\n",
      "4               0.10             0.502         NaN         NaN\n",
      "------------------------------------------------------------\n",
      "   Target (Torr-Inch)  Pressure (Torr)  Voltage (V)  Press-Gap (Torr-Inch)\n",
      "0                3.00             4.00        885.0                 3540.0\n",
      "1                2.00             2.40        746.0                 2124.0\n",
      "2                1.20             1.10        619.0                  973.5\n",
      "3                0.60             0.28        593.0                  247.8\n",
      "4                0.14             0.16        582.0                  141.6\n"
     ]
    }
   ],
   "source": [
    "# create file paths\n",
    "ABCFI_pre_path = os.path.join(dirty_dir, \"ABCFI_pre.csv\")\n",
    "ABCFI_post_path = os.path.join(dirty_dir, \"ABCFI_post.csv\")\n",
    "SS_path = os.path.join(dirty_dir, \"SS.csv\")\n",
    "\n",
    "# load in data\n",
    "ABCFI_pre = pd.read_csv(ABCFI_pre_path)\n",
    "ABCFI_post = pd.read_csv(ABCFI_post_path)\n",
    "SS = pd.read_csv(SS_path)\n",
    "\n",
    "# display data\n",
    "print(ABCFI_pre.head())\n",
    "print('-'*60)\n",
    "print(ABCFI_post.head())\n",
    "print('-'*60)\n",
    "print(SS.head())"
   ]
  },
  {
   "cell_type": "code",
   "execution_count": 10,
   "id": "3e4b5b44",
   "metadata": {},
   "outputs": [],
   "source": [
    "# clean data\n",
    "\n",
    "# pull relevant columns and rename\n",
    "ABCFI_pre.columns = col_names\n",
    "ABCFI_post = ABCFI_post.iloc[:, [0,1]]\n",
    "ABCFI_post.columns = col_names\n",
    "\n",
    "SS = SS.iloc[:,[1,2]]\n",
    "SS.columns = ['pressure', 'voltage']\n",
    "\n",
    "# add target current column (no individual current specified)\n",
    "SS['current'] = [100 for _ in range(len(SS))]\n",
    "\n",
    "# turn V into kV\n",
    "SS.voltage /= 1000"
   ]
  },
  {
   "cell_type": "code",
   "execution_count": 11,
   "id": "94a9d3af",
   "metadata": {},
   "outputs": [],
   "source": [
    "# creat file paths\n",
    "ABCFI_pre_path = os.path.join(panelData, \"ABCFI_pre.csv\")\n",
    "ABCFI_post_path = os.path.join(panelData, \"ABCFI_post.csv\")\n",
    "SS_path = os.path.join(arcingData, \"SS.csv\")\n",
    "\n",
    "# export data\n",
    "ABCFI_pre.to_csv(ABCFI_pre_path, index=False)\n",
    "ABCFI_post.to_csv(ABCFI_post_path, index=False)\n",
    "SS.to_csv(SS_path, index=False)"
   ]
  },
  {
   "cell_type": "markdown",
   "id": "49ef30cd",
   "metadata": {},
   "source": [
    "## Process data from group 1"
   ]
  },
  {
   "cell_type": "code",
   "execution_count": 12,
   "id": "3862596e",
   "metadata": {},
   "outputs": [
    {
     "name": "stdout",
     "output_type": "stream",
     "text": [
      "   Current[A]  Voltage[mV]\n",
      "0        0.01          496\n",
      "1        0.05          495\n",
      "2        0.10          476\n",
      "3        0.15          455\n",
      "4        0.20          454\n",
      "------------------------------------------------------------\n",
      "   Current[A]  Voltage[mV]\n",
      "0        0.01          508\n",
      "1        0.05          503\n",
      "2        0.10          487\n",
      "3        0.15          477\n",
      "4        0.20          469\n",
      "------------------------------------------------------------\n",
      "   pressure  voltage  current\n",
      "0      3.00      6.0        0\n",
      "1      2.10      4.2      697\n",
      "2      1.50      3.0      464\n",
      "3      1.25      2.4      470\n",
      "4      0.80      1.6      675\n"
     ]
    }
   ],
   "source": [
    "# creat file paths\n",
    "CBCFI_pre_path = os.path.join(dirty_dir, \"CBCFI_BeforeTest.txt\")\n",
    "CBCFI_post_path = os.path.join(dirty_dir, \"CBCFI_AfterTest.txt\")\n",
    "Al_path = os.path.join(dirty_dir, \"Al.csv\")\n",
    "\n",
    "# load in and displacy data\n",
    "CBCFI_pre = pd.read_csv(CBCFI_pre_path, sep='\\t')\n",
    "CBCFI_post = pd.read_csv(CBCFI_post_path, sep='\\t')\n",
    "Al = pd.read_csv(Al_path)\n",
    "\n",
    "# display data\n",
    "print(CBCFI_pre.head())\n",
    "print('-'*60)\n",
    "print(CBCFI_post.head())\n",
    "print('-'*60)\n",
    "print(Al.head())"
   ]
  },
  {
   "cell_type": "code",
   "execution_count": 13,
   "id": "a2421fb4",
   "metadata": {},
   "outputs": [],
   "source": [
    "# clean data and assign new column names (Al data is okay)\n",
    "CBCFI_pre.columns = col_names\n",
    "CBCFI_post.columns = col_names\n",
    "\n",
    "# turn mV in V\n",
    "CBCFI_pre.voltage /= 1000\n",
    "CBCFI_post.voltage /= 1000"
   ]
  },
  {
   "cell_type": "code",
   "execution_count": 14,
   "id": "32dc24c1",
   "metadata": {},
   "outputs": [],
   "source": [
    "# create paths for export\n",
    "CBCFI_pre_path = os.path.join(panelData, \"CBCFI_pre.csv\")\n",
    "CBCFI_post_path = os.path.join(panelData, \"CBCFI_post.csv\")\n",
    "Al_path = os.path.join(arcingData, \"Al.csv\")\n",
    "\n",
    "# export data\n",
    "CBCFI_pre.to_csv(CBCFI_pre_path, index=False)\n",
    "CBCFI_post.to_csv(CBCFI_post_path, index=False)\n",
    "Al.to_csv(Al_path, index=False)"
   ]
  }
 ],
 "metadata": {
  "kernelspec": {
   "display_name": "Python 3 (ipykernel)",
   "language": "python",
   "name": "python3"
  },
  "language_info": {
   "codemirror_mode": {
    "name": "ipython",
    "version": 3
   },
   "file_extension": ".py",
   "mimetype": "text/x-python",
   "name": "python",
   "nbconvert_exporter": "python",
   "pygments_lexer": "ipython3",
   "version": "3.9.7"
  }
 },
 "nbformat": 4,
 "nbformat_minor": 5
}
